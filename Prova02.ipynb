{
 "cells": [
  {
   "cell_type": "code",
   "execution_count": 2,
   "id": "974e5e1a-5f3e-4e58-b4a9-1b2d3ce98e58",
   "metadata": {},
   "outputs": [
    {
     "name": "stdout",
     "output_type": "stream",
     "text": [
      "Lista original: [29, 10, 14, 37, 13]\n",
      "Lista ordenada: [10, 13, 14, 29, 37]\n",
      "Maior elemento: 37\n"
     ]
    }
   ],
   "source": [
    "def selection_sort(arr):\n",
    "    for i in range(len(arr)):\n",
    "        min_idx = i\n",
    "        for j in range(i + 1, len(arr)):\n",
    "            if arr[j] < arr[min_idx]:\n",
    "                min_idx = j\n",
    "        arr[i], arr[min_idx] = arr[min_idx], arr[i]\n",
    "    return arr\n",
    "\n",
    "# Método para encontrar o maior elemento da lista ordenada\n",
    "def find_max(arr):\n",
    "    return arr[-1]  # O maior elemento estará no final da lista ordenada\n",
    "\n",
    "# Lista\n",
    "lista = [29, 10, 14, 37, 13]\n",
    "print(\"Lista original:\", lista)\n",
    "sorted_list = selection_sort(lista)\n",
    "print(\"Lista ordenada:\", sorted_list)\n",
    "\n",
    "# Exibindo o maior elemento da lista ordenada\n",
    "print(\"Maior elemento:\", find_max(sorted_list))\n"
   ]
  },
  {
   "cell_type": "code",
   "execution_count": null,
   "id": "0af8b8ee-f11b-4aaa-8f62-cf1418f6e957",
   "metadata": {},
   "outputs": [],
   "source": []
  }
 ],
 "metadata": {
  "kernelspec": {
   "display_name": "Python 3 (ipykernel)",
   "language": "python",
   "name": "python3"
  },
  "language_info": {
   "codemirror_mode": {
    "name": "ipython",
    "version": 3
   },
   "file_extension": ".py",
   "mimetype": "text/x-python",
   "name": "python",
   "nbconvert_exporter": "python",
   "pygments_lexer": "ipython3",
   "version": "3.12.4"
  }
 },
 "nbformat": 4,
 "nbformat_minor": 5
}
